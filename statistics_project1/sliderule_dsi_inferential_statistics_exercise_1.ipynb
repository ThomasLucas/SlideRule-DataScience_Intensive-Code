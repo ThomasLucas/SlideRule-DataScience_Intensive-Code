{
 "cells": [
  {
   "cell_type": "markdown",
   "metadata": {},
   "source": [
    "## What is the true normal human body temperature? \n",
    "\n",
    "#### Background\n",
    "\n",
    "The mean normal body temperature was held to be 37$^{\\circ}$C or 98.6$^{\\circ}$F for more than 120 years since it was first conceptualized and reported by Carl Wunderlich in a famous 1868 book. In 1992, this value was revised to 36.8$^{\\circ}$C or 98.2$^{\\circ}$F. \n",
    "\n",
    "#### Exercise\n",
    "In this exercise, you will analyze a dataset of human body temperatures and employ the concepts of hypothesis testing, confidence intervals, and statistical significance.\n",
    "\n",
    "Answer the following questions **in this notebook below and submit to your Github account**. \n",
    "\n",
    "1.  Is the distribution of body temperatures normal? \n",
    "    - Remember that this is a condition for the CLT, and hence the statistical tests we are using, to apply. \n",
    "2.  Is the true population mean really 98.6 degrees F?\n",
    "    - Bring out the one sample hypothesis test! In this situation, is it approriate to apply a z-test or a t-test? How will the result be different?\n",
    "3.  At what temperature should we consider someone's temperature to be \"abnormal\"?\n",
    "    - Start by computing the margin of error and confidence interval.\n",
    "4.  Is there a significant difference between males and females in normal temperature?\n",
    "    - Set up and solve for a two sample hypothesis testing.\n",
    "\n",
    "You can include written notes in notebook cells using Markdown: \n",
    "   - In the control panel at the top, choose Cell > Cell Type > Markdown\n",
    "   - Markdown syntax: http://nestacms.com/docs/creating-content/markdown-cheat-sheet\n",
    "\n",
    "#### Resources\n",
    "\n",
    "+ Information and data sources: http://www.amstat.org/publications/jse/datasets/normtemp.txt, http://www.amstat.org/publications/jse/jse_data_archive.htm\n",
    "+ Markdown syntax: http://nestacms.com/docs/creating-content/markdown-cheat-sheet\n",
    "\n",
    "****"
   ]
  },
  {
   "cell_type": "code",
   "execution_count": 1,
   "metadata": {
    "collapsed": true
   },
   "outputs": [],
   "source": [
    "import pandas as pd"
   ]
  },
  {
   "cell_type": "code",
   "execution_count": 2,
   "metadata": {
    "collapsed": false
   },
   "outputs": [],
   "source": [
    "df = pd.read_csv('data/human_body_temperature.csv')"
   ]
  },
  {
   "cell_type": "code",
   "execution_count": 3,
   "metadata": {
    "collapsed": false
   },
   "outputs": [
    {
     "data": {
      "text/html": [
       "<div>\n",
       "<table border=\"1\" class=\"dataframe\">\n",
       "  <thead>\n",
       "    <tr style=\"text-align: right;\">\n",
       "      <th></th>\n",
       "      <th>temperature</th>\n",
       "      <th>gender</th>\n",
       "      <th>heart_rate</th>\n",
       "    </tr>\n",
       "  </thead>\n",
       "  <tbody>\n",
       "    <tr>\n",
       "      <th>0</th>\n",
       "      <td>99.3</td>\n",
       "      <td>F</td>\n",
       "      <td>68</td>\n",
       "    </tr>\n",
       "    <tr>\n",
       "      <th>1</th>\n",
       "      <td>98.4</td>\n",
       "      <td>F</td>\n",
       "      <td>81</td>\n",
       "    </tr>\n",
       "    <tr>\n",
       "      <th>2</th>\n",
       "      <td>97.8</td>\n",
       "      <td>M</td>\n",
       "      <td>73</td>\n",
       "    </tr>\n",
       "    <tr>\n",
       "      <th>3</th>\n",
       "      <td>99.2</td>\n",
       "      <td>F</td>\n",
       "      <td>66</td>\n",
       "    </tr>\n",
       "    <tr>\n",
       "      <th>4</th>\n",
       "      <td>98.0</td>\n",
       "      <td>F</td>\n",
       "      <td>73</td>\n",
       "    </tr>\n",
       "  </tbody>\n",
       "</table>\n",
       "</div>"
      ],
      "text/plain": [
       "   temperature gender  heart_rate\n",
       "0         99.3      F          68\n",
       "1         98.4      F          81\n",
       "2         97.8      M          73\n",
       "3         99.2      F          66\n",
       "4         98.0      F          73"
      ]
     },
     "execution_count": 3,
     "metadata": {},
     "output_type": "execute_result"
    }
   ],
   "source": [
    "df.head()"
   ]
  },
  {
   "cell_type": "markdown",
   "metadata": {},
   "source": [
    "#### Useful Imports"
   ]
  },
  {
   "cell_type": "code",
   "execution_count": 4,
   "metadata": {
    "collapsed": true
   },
   "outputs": [],
   "source": [
    "import math\n",
    "import numpy as np\n",
    "import scipy.stats as stats\n",
    "\n",
    "from scipy.stats import norm\n",
    "import matplotlib.pyplot as pyplot\n",
    "import matplotlib.mlab as mlab\n",
    "\n",
    "# some nicer colors from http://colorbrewer2.org/\n",
    "COLOR1 = '#7fc97f'\n",
    "COLOR2 = '#beaed4'\n",
    "COLOR3 = '#fdc086'\n",
    "COLOR4 = '#ffff99'\n",
    "COLOR5 = '#386cb0'\n",
    "\n",
    "%matplotlib inline"
   ]
  },
  {
   "cell_type": "markdown",
   "metadata": {
    "collapsed": true
   },
   "source": [
    "### 1. Is the distribution of body temperatures normal?\n",
    "\n",
    "##### Histogram\n",
    "We will first represent the probability density function of the data using an histogram. This will give us a first indication in order to know if the distribution is normal or not.\n",
    "\n",
    "In addition, we will display an estimation of the probability density function of the data assuming that this data is normally distributed.\n",
    "\n",
    "If the density line fits the histogram this will give us a first intuition if the distribution is normal or not."
   ]
  },
  {
   "cell_type": "code",
   "execution_count": 5,
   "metadata": {
    "collapsed": false
   },
   "outputs": [
    {
     "data": {
      "image/png": "[encoded data removed]",
      "text/plain": [
       "<matplotlib.figure.Figure at 0x1073d4390>"
      ]
     },
     "metadata": {},
     "output_type": "display_data"
    }
   ],
   "source": [
    "# Best fit of data\n",
    "(mu, sigma) = norm.fit(df['temperature'])\n",
    "\n",
    "# Histogram of the temperature data\n",
    "n, bins, patches = pyplot.hist(df['temperature'], normed = True, color = COLOR2)\n",
    "\n",
    "# Add a 'best fit' line\n",
    "y = mlab.normpdf(bins, mu, sigma)\n",
    "l = pyplot.plot(bins, y, color = COLOR5, linewidth=2)\n",
    "\n",
    "# Plot\n",
    "pyplot.xlabel('Temperature (F)')\n",
    "pyplot.ylabel('Probability')\n",
    "pyplot.title(r'$\\mathrm{Histogram\\ of\\ Temperature:}\\ \\mu=%.3f,\\ \\sigma=%.3f$' %(mu, sigma))\n",
    "pyplot.grid(False)\n",
    "\n",
    "pyplot.show()"
   ]
  },
  {
   "cell_type": "markdown",
   "metadata": {
    "collapsed": true
   },
   "source": [
    "By looking at this graph, the shape of the distribution looks similar to what we can expect for a normal distribution. It is not perfect, but that was predictable.\n",
    "\n",
    "##### Probability Plot\n",
    "A more formal way of doing to verify if a data distribution follows some probability law is to use a probability plot or Q-Q plot. That is what I am going to try now."
   ]
  },
  {
   "cell_type": "code",
   "execution_count": 6,
   "metadata": {
    "collapsed": false
   },
   "outputs": [
    {
     "data": {
      "image/png": "[encoded data removed]",
      "text/plain": [
       "<matplotlib.figure.Figure at 0x104cadf10>"
      ]
     },
     "metadata": {},
     "output_type": "display_data"
    }
   ],
   "source": [
    "res = stats.probplot(df['temperature'], dist = \"norm\", plot = pyplot)\n",
    "pyplot.show()"
   ]
  },
  {
   "cell_type": "markdown",
   "metadata": {
    "collapsed": true
   },
   "source": [
    "Most of the points seem to be align on the red line (which is the best fit line). In addition, the coefficient of regression is very close to one. This graph accentuates the fact that the data seems to be normally distributed.\n",
    "\n",
    "##### Shapiro-Wilk Test\n",
    "To confirm that once and for all, we are going to perform a Shapiro-Wilk test. This statistic test will enable us to conclude if the distribution is normal or not. Indeed, this is an hypothesis test which utilizes the null hypothesis principle to check whether a sample x1, ..., xn came from a normally distributed population."
   ]
  },
  {
   "cell_type": "code",
   "execution_count": 7,
   "metadata": {
    "collapsed": false
   },
   "outputs": [
    {
     "name": "stdout",
     "output_type": "stream",
     "text": [
      "Test statistic:  0.986577093601\n",
      "p-value of the statistic test:  0.233174666762\n"
     ]
    }
   ],
   "source": [
    "W, p_value = stats.shapiro(df['temperature'])\n",
    "print \"Test statistic: \", W\n",
    "print \"p-value of the statistic test: \", p_value"
   ]
  },
  {
   "cell_type": "markdown",
   "metadata": {},
   "source": [
    "The p-value is large. Therefore we are not going to reject the null hypothesis and we can conclude that the **distribution is normal**. "
   ]
  },
  {
   "cell_type": "markdown",
   "metadata": {},
   "source": [
    "### 2. Is the true population mean really 98.6 degrees F?"
   ]
  },
  {
   "cell_type": "markdown",
   "metadata": {},
   "source": [
    "We will start by calculating the actual mean of the sample just to have an idea of the current value."
   ]
  },
  {
   "cell_type": "code",
   "execution_count": 8,
   "metadata": {
    "collapsed": false
   },
   "outputs": [
    {
     "name": "stdout",
     "output_type": "stream",
     "text": [
      "Sample Mean:  98.2492307692\n"
     ]
    }
   ],
   "source": [
    "sample_mean = df['temperature'].mean()\n",
    "print \"Sample Mean: \", sample_mean"
   ]
  },
  {
   "cell_type": "markdown",
   "metadata": {},
   "source": [
    "The value obtained seems a bit lower than the announced value. It is closer to the 1992 revised value.\n",
    "\n",
    "We will verify that using an hypothesis testing. As wedon't know the population standard deviation, the appropriate test is a **t-test**. This test is often used to determine if two sets of data are significantly different from each other when the data is normally distributed. We are going to do a one-sample location test of whether the mean of the population 98.6 degrees F. This will be our null hypothesis:\n",
    "\n",
    "* H0: The mean of the population = 98.6 degrees F\n",
    "* H1: The mean of the population != 98.6 degrees F"
   ]
  },
  {
   "cell_type": "code",
   "execution_count": 10,
   "metadata": {
    "collapsed": false
   },
   "outputs": [
    {
     "name": "stdout",
     "output_type": "stream",
     "text": [
      "Test statistic:  -5.45482329236\n",
      "p-value of the t-test:  2.41063204156e-07\n"
     ]
    }
   ],
   "source": [
    "t, p_value = stats.stats.ttest_1samp(df['temperature'], 98.6)\n",
    "print \"Test statistic: \", t\n",
    "print \"p-value of the t-test: \", p_value"
   ]
  },
  {
   "cell_type": "markdown",
   "metadata": {},
   "source": [
    "The p-value is very small. Therefore, we are going to **reject the null hypothesis**, and then conclude that the true population mean is not equal to 98.6 degrees F.\n",
    "\n",
    "As the sample size is large (n > 30) and the data normally distributed, we could have also used a z-test which will have estimated the population standard deviation by the sample standard deviation. We will use this in the next question."
   ]
  },
  {
   "cell_type": "markdown",
   "metadata": {},
   "source": [
    "### 3. At what temperature should we consider someone's temperature to be \"abnormal\"?"
   ]
  },
  {
   "cell_type": "markdown",
   "metadata": {},
   "source": [
    "The standard deviation of the sample means quantifies the variability from one experiment to the next, and reflects the precision of the estimate.\n",
    "This quantity is called the \"standard error\"."
   ]
  },
  {
   "cell_type": "code",
   "execution_count": 28,
   "metadata": {
    "collapsed": false
   },
   "outputs": [
    {
     "name": "stdout",
     "output_type": "stream",
     "text": [
      "Standard Error:  0.733183158039\n"
     ]
    }
   ],
   "source": [
    "SE = df['temperature'].std()\n",
    "print \"Standard Error: \", SE"
   ]
  },
  {
   "cell_type": "markdown",
   "metadata": {},
   "source": [
    "If we consider a 95% confidence interval, the critical z value is equal to 1.96. Considering this value, the **Margin of Error** is equal to:"
   ]
  },
  {
   "cell_type": "code",
   "execution_count": 29,
   "metadata": {
    "collapsed": false
   },
   "outputs": [
    {
     "name": "stdout",
     "output_type": "stream",
     "text": [
      "Margin of Error:  1.43703898976\n"
     ]
    }
   ],
   "source": [
    "ME = 1.96 * SE\n",
    "print \"Margin of Error: \", ME"
   ]
  },
  {
   "cell_type": "markdown",
   "metadata": {},
   "source": [
    "Knowing the margin of error we can deduce the **95% confidence interval**, we have: "
   ]
  },
  {
   "cell_type": "code",
   "execution_count": 30,
   "metadata": {
    "collapsed": false
   },
   "outputs": [
    {
     "name": "stdout",
     "output_type": "stream",
     "text": [
      "95% Confidence Interval:  [ 96.7225  99.4775]\n"
     ]
    }
   ],
   "source": [
    "conf_int = np.percentile(df[\"temperature\"], [2.5, 97.5])\n",
    "print '95% Confidence Interval: ', conf_int"
   ]
  },
  {
   "cell_type": "markdown",
   "metadata": {
    "collapsed": true
   },
   "source": [
    "All the values located outside of this interval will be considered as \"abnormal\"."
   ]
  },
  {
   "cell_type": "markdown",
   "metadata": {},
   "source": [
    "### 4. Is there a significant difference between males and females in normal temperature?\n",
    "\n",
    "We will first isolate the males temperatures on one side and the female temperature on the other side."
   ]
  },
  {
   "cell_type": "code",
   "execution_count": 31,
   "metadata": {
    "collapsed": false
   },
   "outputs": [],
   "source": [
    "male_temp = df[df[\"gender\"] == \"M\"][\"temperature\"]\n",
    "female_temp = df[df[\"gender\"] == \"F\"][\"temperature\"]"
   ]
  },
  {
   "cell_type": "markdown",
   "metadata": {
    "collapsed": true
   },
   "source": [
    "I will now compare the mean temperature of my two groups. This will be my test statistic.\n",
    "\n",
    "To be able to know if there is a significant difference between males and females in normal temperature, I will use a two sample hypothesis testing. As the two groups are independent, I will use a t-test to determine whether the means of the two groups differ.\n",
    "\n",
    "Here are my hypothesis:\n",
    "\n",
    "* H0: Mean(males normal temperature) - Mean(females normal temperature) = 0\n",
    "* H1: Mean(males normal temperature) - Mean(females normal temperature) != 0"
   ]
  },
  {
   "cell_type": "code",
   "execution_count": 32,
   "metadata": {
    "collapsed": false
   },
   "outputs": [
    {
     "name": "stdout",
     "output_type": "stream",
     "text": [
      "Test statistic:  -2.28543453817\n",
      "p-value of the t-test:  0.0239318831224\n"
     ]
    }
   ],
   "source": [
    "statistic, p_value = stats.stats.ttest_ind(male_temp, female_temp)\n",
    "print \"Test statistic: \", statistic\n",
    "print \"p-value of the t-test: \", p_value"
   ]
  },
  {
   "cell_type": "markdown",
   "metadata": {
    "collapsed": true
   },
   "source": [
    "This time again we will use 5% as a threshold for our hypothesis testing. We have a p-value < 5%, therefore we are going to reject the null hypothesis and assume that there is a significant difference between the males and females normal temperature.\n",
    "\n",
    "However, the p-value is not very small (p-value > 1%), so the result is less significant than the one obtained question 2. for instance. There is still a risk (2.4%) to commit a type 1 error."
   ]
  },
  {
   "cell_type": "code",
   "execution_count": null,
   "metadata": {
    "collapsed": true
   },
   "outputs": [],
   "source": []
  }
 ],
 "metadata": {
  "kernelspec": {
   "display_name": "Python 2",
   "language": "python",
   "name": "python2"
  },
  "language_info": {
   "codemirror_mode": {
    "name": "ipython",
    "version": 2
   },
   "file_extension": ".py",
   "mimetype": "text/x-python",
   "name": "python",
   "nbconvert_exporter": "python",
   "pygments_lexer": "ipython2",
   "version": "2.7.10"
  }
 },
 "nbformat": 4,
 "nbformat_minor": 0
}
