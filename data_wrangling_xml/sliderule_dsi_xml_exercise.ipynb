{
 "cells": [
  {
   "cell_type": "markdown",
   "metadata": {},
   "source": [
    "# XML example and exercise\n",
    "****\n",
    "+ study examples of accessing nodes in XML tree structure  \n",
    "+ work on exercise to be completed and submitted\n",
    "****\n",
    "+ reference: https://docs.python.org/2.7/library/xml.etree.elementtree.html\n",
    "+ data source: http://www.dbis.informatik.uni-goettingen.de/Mondial\n",
    "****"
   ]
  },
  {
   "cell_type": "code",
   "execution_count": 1,
   "metadata": {
    "collapsed": true
   },
   "outputs": [],
   "source": [
    "from xml.etree import ElementTree as ET"
   ]
  },
  {
   "cell_type": "markdown",
   "metadata": {},
   "source": [
    "## XML example\n",
    "\n",
    "+ for details about tree traversal and iterators, see https://docs.python.org/2.7/library/xml.etree.elementtree.html"
   ]
  },
  {
   "cell_type": "code",
   "execution_count": 2,
   "metadata": {
    "collapsed": true
   },
   "outputs": [],
   "source": [
    "document_tree = ET.parse( './data/mondial_database_less.xml' )"
   ]
  },
  {
   "cell_type": "code",
   "execution_count": 3,
   "metadata": {
    "collapsed": false
   },
   "outputs": [
    {
     "name": "stdout",
     "output_type": "stream",
     "text": [
      "Albania\n",
      "Greece\n",
      "Macedonia\n",
      "Serbia\n",
      "Montenegro\n",
      "Kosovo\n",
      "Andorra\n"
     ]
    }
   ],
   "source": [
    "# print names of all countries\n",
    "for child in document_tree.getroot():\n",
    "    print child.find('name').text"
   ]
  },
  {
   "cell_type": "code",
   "execution_count": 4,
   "metadata": {
    "collapsed": false
   },
   "outputs": [
    {
     "name": "stdout",
     "output_type": "stream",
     "text": [
      "* Albania: Tirana, Shkodër, Durrës, Vlorë, Elbasan, Korçë\n",
      "* Greece: Komotini, Kavala, Athina, Peiraias, Peristeri, Acharnes, Patra, Kozani, Kerkyra, Ioannina, Thessaloniki, Iraklio, Chania, Ermoupoli, Rhodes, Tripoli, Lamia, Chalkida, Larissa, Volos, Mytilini, Karyes\n",
      "* Macedonia: Skopje, Kumanovo\n",
      "* Serbia: Beograd, Novi Sad, Niš\n",
      "* Montenegro: Podgorica\n",
      "* Kosovo: Prishtine\n",
      "* Andorra: Andorra la Vella\n"
     ]
    }
   ],
   "source": [
    "# print names of all countries and their cities\n",
    "for element in document_tree.iterfind('country'):\n",
    "    print '* ' + element.find('name').text + ':',\n",
    "    capitals_string = ''\n",
    "    for subelement in element.getiterator('city'):\n",
    "        capitals_string += subelement.find('name').text + ', '\n",
    "    print capitals_string[:-2]"
   ]
  },
  {
   "cell_type": "markdown",
   "metadata": {},
   "source": [
    "****\n",
    "## XML exercise\n",
    "\n",
    "Using data in 'data/mondial_database.xml', the examples above, and refering to https://docs.python.org/2.7/library/xml.etree.elementtree.html, find\n",
    "\n",
    "1. 10 countries with the lowest infant mortality rates\n",
    "2. 10 cities with the largest population\n",
    "3. 10 ethnic groups with the largest overall populations (sum of best/latest estimates over all countries)\n",
    "4. name and country of a) longest river, b) largest lake and c) airport at highest elevation"
   ]
  },
  {
   "cell_type": "code",
   "execution_count": 5,
   "metadata": {
    "collapsed": true
   },
   "outputs": [],
   "source": [
    "import pandas as pd\n",
    "import numpy as np\n",
    "\n",
    "document = ET.parse( './data/mondial_database.xml' )"
   ]
  },
  {
   "cell_type": "code",
   "execution_count": 67,
   "metadata": {
    "collapsed": false
   },
   "outputs": [
    {
     "data": {
      "text/html": [
       "<div>\n",
       "<table border=\"1\" class=\"dataframe\">\n",
       "  <thead>\n",
       "    <tr style=\"text-align: right;\">\n",
       "      <th></th>\n",
       "      <th>Country</th>\n",
       "      <th>Infant Mortality</th>\n",
       "    </tr>\n",
       "  </thead>\n",
       "  <tbody>\n",
       "    <tr>\n",
       "      <th>178</th>\n",
       "      <td>Western Sahara</td>\n",
       "      <td>145.82</td>\n",
       "    </tr>\n",
       "    <tr>\n",
       "      <th>48</th>\n",
       "      <td>Afghanistan</td>\n",
       "      <td>117.23</td>\n",
       "    </tr>\n",
       "    <tr>\n",
       "      <th>173</th>\n",
       "      <td>Mali</td>\n",
       "      <td>104.34</td>\n",
       "    </tr>\n",
       "    <tr>\n",
       "      <th>210</th>\n",
       "      <td>Somalia</td>\n",
       "      <td>100.14</td>\n",
       "    </tr>\n",
       "    <tr>\n",
       "      <th>197</th>\n",
       "      <td>Central African Republic</td>\n",
       "      <td>92.86</td>\n",
       "    </tr>\n",
       "    <tr>\n",
       "      <th>214</th>\n",
       "      <td>Guinea-Bissau</td>\n",
       "      <td>90.92</td>\n",
       "    </tr>\n",
       "    <tr>\n",
       "      <th>198</th>\n",
       "      <td>Chad</td>\n",
       "      <td>90.30</td>\n",
       "    </tr>\n",
       "    <tr>\n",
       "      <th>176</th>\n",
       "      <td>Niger</td>\n",
       "      <td>86.27</td>\n",
       "    </tr>\n",
       "    <tr>\n",
       "      <th>179</th>\n",
       "      <td>Angola</td>\n",
       "      <td>79.99</td>\n",
       "    </tr>\n",
       "    <tr>\n",
       "      <th>185</th>\n",
       "      <td>Burkina Faso</td>\n",
       "      <td>76.80</td>\n",
       "    </tr>\n",
       "  </tbody>\n",
       "</table>\n",
       "</div>"
      ],
      "text/plain": [
       "                      Country  Infant Mortality\n",
       "178            Western Sahara            145.82\n",
       "48                Afghanistan            117.23\n",
       "173                      Mali            104.34\n",
       "210                   Somalia            100.14\n",
       "197  Central African Republic             92.86\n",
       "214             Guinea-Bissau             90.92\n",
       "198                      Chad             90.30\n",
       "176                     Niger             86.27\n",
       "179                    Angola             79.99\n",
       "185              Burkina Faso             76.80"
      ]
     },
     "execution_count": 67,
     "metadata": {},
     "output_type": "execute_result"
    }
   ],
   "source": [
    "#### Question 1 ####\n",
    "\n",
    "countries = []\n",
    "infant_mortality = []\n",
    "for element in document.iterfind('country'):\n",
    "    if element.find('infant_mortality') != None:\n",
    "        countries.append(element.find('name').text)\n",
    "        infant_mortality.append(float(element.find('infant_mortality').text))\n",
    "    else:\n",
    "        # We exclude the countries where the infant_mortality data is not provided\n",
    "        pass\n",
    "\n",
    "infant_mortality_df = pd.DataFrame({\"Country\": countries, \"Infant Mortality\": infant_mortality})\n",
    "infant_mortality_df.sort_values('Infant Mortality', ascending = 0).head(10)\n"
   ]
  },
  {
   "cell_type": "code",
   "execution_count": 69,
   "metadata": {
    "collapsed": false
   },
   "outputs": [
    {
     "data": {
      "text/html": [
       "<div>\n",
       "<table border=\"1\" class=\"dataframe\">\n",
       "  <thead>\n",
       "    <tr style=\"text-align: right;\">\n",
       "      <th></th>\n",
       "      <th>City</th>\n",
       "      <th>Country</th>\n",
       "      <th>Population</th>\n",
       "      <th>Year</th>\n",
       "    </tr>\n",
       "  </thead>\n",
       "  <tbody>\n",
       "    <tr>\n",
       "      <th>1251</th>\n",
       "      <td>Shanghai</td>\n",
       "      <td>China</td>\n",
       "      <td>22315474</td>\n",
       "      <td>2010</td>\n",
       "    </tr>\n",
       "    <tr>\n",
       "      <th>707</th>\n",
       "      <td>Istanbul</td>\n",
       "      <td>Turkey</td>\n",
       "      <td>13710512</td>\n",
       "      <td>2012</td>\n",
       "    </tr>\n",
       "    <tr>\n",
       "      <th>1421</th>\n",
       "      <td>Mumbai</td>\n",
       "      <td>India</td>\n",
       "      <td>12442373</td>\n",
       "      <td>2011</td>\n",
       "    </tr>\n",
       "    <tr>\n",
       "      <th>443</th>\n",
       "      <td>Moskva</td>\n",
       "      <td>Russia</td>\n",
       "      <td>11979529</td>\n",
       "      <td>2013</td>\n",
       "    </tr>\n",
       "    <tr>\n",
       "      <th>1250</th>\n",
       "      <td>Beijing</td>\n",
       "      <td>China</td>\n",
       "      <td>11716620</td>\n",
       "      <td>2010</td>\n",
       "    </tr>\n",
       "    <tr>\n",
       "      <th>2594</th>\n",
       "      <td>São Paulo</td>\n",
       "      <td>Brazil</td>\n",
       "      <td>11152344</td>\n",
       "      <td>2010</td>\n",
       "    </tr>\n",
       "    <tr>\n",
       "      <th>1252</th>\n",
       "      <td>Tianjin</td>\n",
       "      <td>China</td>\n",
       "      <td>11090314</td>\n",
       "      <td>2010</td>\n",
       "    </tr>\n",
       "    <tr>\n",
       "      <th>974</th>\n",
       "      <td>Guangzhou</td>\n",
       "      <td>China</td>\n",
       "      <td>11071424</td>\n",
       "      <td>2010</td>\n",
       "    </tr>\n",
       "    <tr>\n",
       "      <th>1467</th>\n",
       "      <td>Delhi</td>\n",
       "      <td>India</td>\n",
       "      <td>11034555</td>\n",
       "      <td>2011</td>\n",
       "    </tr>\n",
       "    <tr>\n",
       "      <th>977</th>\n",
       "      <td>Shenzhen</td>\n",
       "      <td>China</td>\n",
       "      <td>10358381</td>\n",
       "      <td>2010</td>\n",
       "    </tr>\n",
       "  </tbody>\n",
       "</table>\n",
       "</div>"
      ],
      "text/plain": [
       "           City Country  Population  Year\n",
       "1251   Shanghai   China    22315474  2010\n",
       "707    Istanbul  Turkey    13710512  2012\n",
       "1421     Mumbai   India    12442373  2011\n",
       "443      Moskva  Russia    11979529  2013\n",
       "1250    Beijing   China    11716620  2010\n",
       "2594  São Paulo  Brazil    11152344  2010\n",
       "1252    Tianjin   China    11090314  2010\n",
       "974   Guangzhou   China    11071424  2010\n",
       "1467      Delhi   India    11034555  2011\n",
       "977    Shenzhen   China    10358381  2010"
      ]
     },
     "execution_count": 69,
     "metadata": {},
     "output_type": "execute_result"
    }
   ],
   "source": [
    "#### Question 2 ####\n",
    "\n",
    "# By looking at the data, we assume that we want to have the most recent population number\n",
    "# for each city.\n",
    "\n",
    "cities = []\n",
    "countries = []\n",
    "years = []\n",
    "populations = []\n",
    "\n",
    "for country in document.iterfind('country'):\n",
    "    for city in country.getiterator('city'):\n",
    "        year = None\n",
    "        population = None\n",
    "        for population in city.getiterator('population'):\n",
    "            if year == None or int(population.get('year')) > year :\n",
    "                year = int(population.get('year'))\n",
    "                population = int(population.text)\n",
    "        if population != None:\n",
    "            cities.append(city.find('name').text)\n",
    "            countries.append(country.find('name').text)\n",
    "            years.append(year)\n",
    "            populations.append(population)\n",
    "\n",
    "population_df = pd.DataFrame({\"City\": cities, \"Country\": countries, \"Year\": years, \"Population\": populations})\n",
    "population_df.sort_values('Population', ascending = 0).head(10)"
   ]
  },
  {
   "cell_type": "code",
   "execution_count": 70,
   "metadata": {
    "collapsed": false
   },
   "outputs": [
    {
     "data": {
      "text/html": [
       "<div>\n",
       "<table border=\"1\" class=\"dataframe\">\n",
       "  <thead>\n",
       "    <tr style=\"text-align: right;\">\n",
       "      <th></th>\n",
       "      <th>Ethnic Group</th>\n",
       "      <th>Overall Population</th>\n",
       "      <th>Year</th>\n",
       "    </tr>\n",
       "  </thead>\n",
       "  <tbody>\n",
       "    <tr>\n",
       "      <th>44</th>\n",
       "      <td>Han Chinese</td>\n",
       "      <td>1.245059e+09</td>\n",
       "      <td>2013</td>\n",
       "    </tr>\n",
       "    <tr>\n",
       "      <th>55</th>\n",
       "      <td>Dravidian</td>\n",
       "      <td>3.027137e+08</td>\n",
       "      <td>2011</td>\n",
       "    </tr>\n",
       "    <tr>\n",
       "      <th>97</th>\n",
       "      <td>European</td>\n",
       "      <td>2.549581e+08</td>\n",
       "      <td>2014</td>\n",
       "    </tr>\n",
       "    <tr>\n",
       "      <th>165</th>\n",
       "      <td>African</td>\n",
       "      <td>1.626516e+08</td>\n",
       "      <td>2011</td>\n",
       "    </tr>\n",
       "    <tr>\n",
       "      <th>53</th>\n",
       "      <td>Bengali</td>\n",
       "      <td>1.467769e+08</td>\n",
       "      <td>2011</td>\n",
       "    </tr>\n",
       "    <tr>\n",
       "      <th>81</th>\n",
       "      <td>Japanese</td>\n",
       "      <td>1.265342e+08</td>\n",
       "      <td>2013</td>\n",
       "    </tr>\n",
       "    <tr>\n",
       "      <th>21</th>\n",
       "      <td>Russian</td>\n",
       "      <td>1.146462e+08</td>\n",
       "      <td>2014</td>\n",
       "    </tr>\n",
       "    <tr>\n",
       "      <th>73</th>\n",
       "      <td>Javanese</td>\n",
       "      <td>1.134560e+08</td>\n",
       "      <td>2014</td>\n",
       "    </tr>\n",
       "    <tr>\n",
       "      <th>143</th>\n",
       "      <td>European</td>\n",
       "      <td>1.088867e+08</td>\n",
       "      <td>2014</td>\n",
       "    </tr>\n",
       "    <tr>\n",
       "      <th>62</th>\n",
       "      <td>Viet/Kinh</td>\n",
       "      <td>7.607838e+07</td>\n",
       "      <td>2012</td>\n",
       "    </tr>\n",
       "  </tbody>\n",
       "</table>\n",
       "</div>"
      ],
      "text/plain": [
       "    Ethnic Group  Overall Population  Year\n",
       "44   Han Chinese        1.245059e+09  2013\n",
       "55     Dravidian        3.027137e+08  2011\n",
       "97      European        2.549581e+08  2014\n",
       "165      African        1.626516e+08  2011\n",
       "53       Bengali        1.467769e+08  2011\n",
       "81      Japanese        1.265342e+08  2013\n",
       "21       Russian        1.146462e+08  2014\n",
       "73      Javanese        1.134560e+08  2014\n",
       "143     European        1.088867e+08  2014\n",
       "62     Viet/Kinh        7.607838e+07  2012"
      ]
     },
     "execution_count": 70,
     "metadata": {},
     "output_type": "execute_result"
    }
   ],
   "source": [
    "#### Question 3 ####\n",
    "\n",
    "ethnicgroups = []\n",
    "overall_populations = []\n",
    "years = []\n",
    "\n",
    "for country in document.iterfind('country'):\n",
    "    year = None\n",
    "    population = None\n",
    "    for population in country.iterfind('population'):\n",
    "        if year == None or int(population.get('year')) > year :\n",
    "            year = int(population.get('year'))\n",
    "            population = int(population.text)\n",
    "    if population != None:\n",
    "        ethnicgroup = country.find('ethnicgroup')\n",
    "        if ethnicgroup != None:\n",
    "            ethnicgroups.append(ethnicgroup.text)\n",
    "            percentage = float(ethnicgroup.get('percentage')) / 100\n",
    "            overall_population = percentage * population\n",
    "            overall_populations.append(overall_population)\n",
    "            years.append(year)\n",
    "            \n",
    "overall_populations_df = pd.DataFrame({\"Ethnic Group\": ethnicgroups, \"Overall Population\": overall_populations, \"Year\": years})\n",
    "overall_populations_df.sort_values(\"Overall Population\", ascending = 0).head(10)\n",
    "    "
   ]
  },
  {
   "cell_type": "code",
   "execution_count": 53,
   "metadata": {
    "collapsed": true
   },
   "outputs": [],
   "source": [
    "#### Question 4 ####\n",
    "\n",
    "# Create a dictionary which maps the country names and the country codes\n",
    "country_dict = {}\n",
    "for country in document.iterfind('country'):\n",
    "    country_dict[country.get('car_code')] = country.find('name').text "
   ]
  },
  {
   "cell_type": "code",
   "execution_count": 71,
   "metadata": {
    "collapsed": false
   },
   "outputs": [
    {
     "name": "stdout",
     "output_type": "stream",
     "text": [
      "Longest river name: Amazonas\n",
      "Longest river country / countries: Colombia, Brazil, Peru\n"
     ]
    }
   ],
   "source": [
    "# a) Longest River\n",
    "\n",
    "# Find the longest river and its country or countries\n",
    "max_length = 0\n",
    "longest_river_name = \"\"\n",
    "for river in document.iterfind('river'):\n",
    "    river_name = river.find('name').text\n",
    "    if river.find('length') != None:\n",
    "        river_length = float(river.find('length').text)    \n",
    "        country_code = river.get(\"country\")\n",
    "        if river_length > max_length:\n",
    "            longest_river_country_code = []\n",
    "            max_length = river_length\n",
    "            for code in country_code.split(' '):\n",
    "                longest_river_country_code.append(code)\n",
    "            longest_river_name = river_name\n",
    "\n",
    "# Use the country_dict to get the full name of the country where is located the longest river            \n",
    "longest_river_country = \"\"    \n",
    "for country_code in longest_river_country_code:\n",
    "    longest_river_country += country_dict[country_code] + \", \"   \n",
    "     \n",
    "# Print the answer\n",
    "print \"Longest river name: %s\" % longest_river_name \n",
    "print \"Longest river country / countries: %s\" % longest_river_country[:-2]"
   ]
  },
  {
   "cell_type": "code",
   "execution_count": 72,
   "metadata": {
    "collapsed": false
   },
   "outputs": [
    {
     "name": "stdout",
     "output_type": "stream",
     "text": [
      "Largest lake name: Caspian Sea\n",
      "Largest lake country / countries: Russia, Azerbaijan, Kazakhstan, Iran, Turkmenistan\n"
     ]
    }
   ],
   "source": [
    "# b) Largest Lake\n",
    "\n",
    "# Find the largest lake and its country or countries\n",
    "max_area = 0\n",
    "largest_lake_name = \"\"\n",
    "for lake in document.iterfind('lake'):\n",
    "    lake_name = lake.find('name').text\n",
    "    if lake.find('area') != None:\n",
    "        lake_area = float(lake.find('area').text)    \n",
    "        country_code = lake.get(\"country\")\n",
    "        if lake_area > max_area:\n",
    "            largest_lake_country_code = []\n",
    "            max_area = lake_area\n",
    "            for code in country_code.split(' '):\n",
    "                largest_lake_country_code.append(code)\n",
    "            largest_lake_name = lake_name\n",
    "\n",
    "# Use the country_dict to get the full name of the country where is located the largest lake            \n",
    "largest_lake_country = \"\"    \n",
    "for country_code in largest_lake_country_code:\n",
    "    largest_lake_country += country_dict[country_code] + \", \"   \n",
    "     \n",
    "# Print the answer\n",
    "print \"Largest lake name: %s\" % largest_lake_name \n",
    "print \"Largest lake country / countries: %s\" % largest_lake_country[:-2]"
   ]
  },
  {
   "cell_type": "code",
   "execution_count": 73,
   "metadata": {
    "collapsed": false
   },
   "outputs": [
    {
     "name": "stdout",
     "output_type": "stream",
     "text": [
      "Highest elevation airport name: El Alto Intl\n",
      "Highest elevation airport country / countries: Bolivia\n"
     ]
    }
   ],
   "source": [
    "# c) Airport at the highest elevation\n",
    "\n",
    "# Find the airport at the highest elevation and its country or countries\n",
    "max_elevation = 0\n",
    "highest_elevation_airport_name = \"\"\n",
    "for airport in document.iterfind('airport'):\n",
    "    airport_name = airport.find('name').text\n",
    "    if airport.find('elevation') is not None and airport.find('elevation').text is not None:\n",
    "        airport_elevation = float(airport.find('elevation').text)    \n",
    "        country_code = airport.get(\"country\")\n",
    "        if airport_elevation > max_elevation:\n",
    "            highest_airport_country_code = []\n",
    "            max_elevation = airport_elevation\n",
    "            for code in country_code.split(' '):\n",
    "                highest_airport_country_code.append(code)\n",
    "            highest_elevation_airport_name = airport_name\n",
    "\n",
    "# Use the country_dict to get the full name of the country where is located the largest lake            \n",
    "highest_airport_country = \"\"    \n",
    "for country_code in highest_airport_country_code:\n",
    "    highest_airport_country += country_dict[country_code] + \", \"   \n",
    "     \n",
    "# Print the answer\n",
    "print \"Highest elevation airport name: %s\" % highest_elevation_airport_name \n",
    "print \"Highest elevation airport country / countries: %s\" % highest_airport_country[:-2]\n"
   ]
  },
  {
   "cell_type": "code",
   "execution_count": null,
   "metadata": {
    "collapsed": true
   },
   "outputs": [],
   "source": []
  }
 ],
 "metadata": {
  "kernelspec": {
   "display_name": "Python 2",
   "language": "python",
   "name": "python2"
  },
  "language_info": {
   "codemirror_mode": {
    "name": "ipython",
    "version": 2
   },
   "file_extension": ".py",
   "mimetype": "text/x-python",
   "name": "python",
   "nbconvert_exporter": "python",
   "pygments_lexer": "ipython2",
   "version": "2.7.10"
  }
 },
 "nbformat": 4,
 "nbformat_minor": 0
}
